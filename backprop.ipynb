{
 "cells": [
  {
   "cell_type": "code",
   "execution_count": 143,
   "metadata": {},
   "outputs": [],
   "source": [
    "import torch\n",
    "import torch.nn.functional as F\n",
    "import matplotlib.pyplot as plt\n",
    "%matplotlib inline"
   ]
  },
  {
   "cell_type": "code",
   "execution_count": 144,
   "metadata": {},
   "outputs": [
    {
     "name": "stdout",
     "output_type": "stream",
     "text": [
      "32033\n",
      "15\n",
      "['emma', 'olivia', 'ava', 'isabella', 'sophia', 'charlotte', 'mia', 'amelia']\n"
     ]
    }
   ],
   "source": [
    "#read in all words\n",
    "words=open('names.txt','r').read().splitlines()\n",
    "print(len(words))\n",
    "print(max(len(w) for w in words))\n",
    "print(words[:8])"
   ]
  },
  {
   "cell_type": "code",
   "execution_count": 145,
   "metadata": {},
   "outputs": [
    {
     "name": "stdout",
     "output_type": "stream",
     "text": [
      "{1: 'a', 2: 'b', 3: 'c', 4: 'd', 5: 'e', 6: 'f', 7: 'g', 8: 'h', 9: 'i', 10: 'j', 11: 'k', 12: 'l', 13: 'm', 14: 'n', 15: 'o', 16: 'p', 17: 'q', 18: 'r', 19: 's', 20: 't', 21: 'u', 22: 'v', 23: 'w', 24: 'x', 25: 'y', 26: 'z', 0: '.'}\n",
      "27\n"
     ]
    }
   ],
   "source": [
    "#build the vocabulary of characters and mapping to/from integers\n",
    "chars=sorted(list(set(''.join(words))))\n",
    "stoi={s:i+1 for i,s in enumerate(chars)}\n",
    "stoi['.']=0\n",
    "itos={i:s for s,i in stoi.items()}\n",
    "vocab_size=len(itos)\n",
    "print(itos)\n",
    "print(vocab_size)"
   ]
  },
  {
   "cell_type": "code",
   "execution_count": 146,
   "metadata": {},
   "outputs": [
    {
     "name": "stdout",
     "output_type": "stream",
     "text": [
      "torch.Size([182625, 3]) torch.Size([182625])\n",
      "torch.Size([22655, 3]) torch.Size([22655])\n",
      "torch.Size([22866, 3]) torch.Size([22866])\n"
     ]
    }
   ],
   "source": [
    "#build the dataset\n",
    "block_size = 3\n",
    "\n",
    "def build_dataset(words):  #why () words? :tr,dev,te\n",
    "    X,Y=[],[]\n",
    "\n",
    "    for w in words:\n",
    "        context=[0] * block_size\n",
    "        for ch in w+ '.':\n",
    "            ix=stoi[ch]\n",
    "            X.append(context)\n",
    "            Y.append(ix)\n",
    "            context=context[1:]+[ix]\n",
    "        \n",
    "    X=torch.tensor(X)\n",
    "    Y=torch.tensor(Y)\n",
    "    print(X.shape,Y.shape)\n",
    "    return X,Y\n",
    "\n",
    "import random\n",
    "random.seed(42)\n",
    "random.shuffle(words)\n",
    "n1=int(0.8*len(words))\n",
    "n2=int(0.9*len(words))\n",
    "\n",
    "Xtr,Ytr=build_dataset(words[:n1])\n",
    "Xdev,Ydev=build_dataset(words[n1:n2])\n",
    "Xte,Yte=build_dataset(words[n2:])"
   ]
  },
  {
   "cell_type": "code",
   "execution_count": 147,
   "metadata": {},
   "outputs": [],
   "source": [
    "#function we will use later when comparing manual gradients to Pytorch gradients\n",
    "def cmp(s,dt,t):\n",
    "    ex=torch.all(dt == t.grad).item()\n",
    "    app=torch.allclose(dt,t.grad)\n",
    "    maxdiff=(dt-t.grad).abs().max().item()\n",
    "    print(f'{s:15s} | exact:{str(ex):5s} | approximate:{str(app):5s}|maxdiff:{maxdiff}')  #不懂 暂放"
   ]
  },
  {
   "cell_type": "code",
   "execution_count": 148,
   "metadata": {},
   "outputs": [
    {
     "name": "stdout",
     "output_type": "stream",
     "text": [
      "4137\n"
     ]
    }
   ],
   "source": [
    "n_embd = 10 #the dimensionakity of the character embedding vectors\n",
    "n_hidden = 64\n",
    "\n",
    "g=torch.Generator().manual_seed(2147483647)\n",
    "C=torch.randn((vocab_size,n_embd),generator=g)\n",
    "#Layer 1\n",
    "W1=torch.randn((n_embd * block_size,n_hidden),generator=g)*(5/3)/((n_embd*block_size)**0.5)\n",
    "b1=torch.randn(n_hidden,generator=g)*0.1  #uesless,just for fun\n",
    "#Layer 2\n",
    "W2=torch.randn((n_hidden,vocab_size),generator=g)*0.1\n",
    "b2=torch.randn(vocab_size,generator=g)*0.1\n",
    "#BatchNorm parameters  ???\n",
    "bngain=torch.randn((1,n_hidden))*0.1 + 1.0\n",
    "bnbias=torch.randn((1,n_hidden))*0.1\n",
    "\n",
    "parameters = [C,W1,b1,W2,b2,bngain, bnbias]\n",
    "print(sum(p.nelement() for p in parameters))\n",
    "for p in parameters:\n",
    "    p.requires_grad=True"
   ]
  },
  {
   "cell_type": "code",
   "execution_count": 149,
   "metadata": {},
   "outputs": [
    {
     "name": "stdout",
     "output_type": "stream",
     "text": [
      "tensor([120000, 157809,  82137,  69514,  73004,  68734,    286, 123947,  13538,\n",
      "         42674, 165010,  81021,  59151,  46471,  62456,  64636,  24418, 108817,\n",
      "        169833, 145683, 168275, 157689,  36258, 142280,  32537, 149713, 149734,\n",
      "        149517, 165139, 153533,  89661,  20039])\n",
      "torch.Size([32, 3])\n"
     ]
    }
   ],
   "source": [
    "batch_size=32\n",
    "n=batch_size\n",
    "ix=torch.randint(0,Xtr.shape[0],(batch_size,),generator=g)  #在训练集矩阵里随机抽取32行，相当于有很多向量，随机抽取32个\n",
    "print(ix)\n",
    "print(Xtr[ix].shape)\n",
    "Xb,Yb=Xtr[ix],Ytr[ix]"
   ]
  },
  {
   "cell_type": "code",
   "execution_count": 150,
   "metadata": {},
   "outputs": [
    {
     "data": {
      "text/plain": [
       "tensor(3.3434, grad_fn=<NegBackward0>)"
      ]
     },
     "execution_count": 150,
     "metadata": {},
     "output_type": "execute_result"
    }
   ],
   "source": [
    "#forward pass\n",
    "\n",
    "emb=C[Xb]\n",
    "#print(emb.shape)\n",
    "embcat=emb.view(emb.shape[0],-1) #concatenate the vectors\n",
    "#Linear layer 1\n",
    "hprebn=embcat@W1+b1\n",
    "#BatchNorm layer\n",
    "bnmeani=1/n*hprebn.sum(0,keepdim=True)\n",
    "bndiff=hprebn-bnmeani  #广播\n",
    "#print(bnmeani.shape)\n",
    "#print(hprebn.shape)\n",
    "bndiff2=bndiff**2\n",
    "bnvar=1/(n-1)*(bndiff2).sum(0,keepdim=True)\n",
    "bnvar_inv=(bnvar+1e-5)**-0.5\n",
    "bnraw=bndiff*bnvar_inv  #normal\n",
    "hpreact=bngain*bnraw + bnbias\n",
    "#Non-linearity\n",
    "h=torch.tanh(hpreact)\n",
    "#Linear layer2\n",
    "logits=h@W2+b2\n",
    "logits_maxes=logits.max(1,keepdim=True).values  #??values\n",
    "norm_logits=logits-logits_maxes\n",
    "counts=norm_logits.exp()\n",
    "counts_sum=counts.sum(1,keepdims=True)\n",
    "counts_sum_inv=counts_sum**-1\n",
    "probs=counts * counts_sum_inv\n",
    "logprobs=probs.log()\n",
    "loss=-logprobs[range(n),Yb].mean()\n",
    "\n",
    "for p in parameters:\n",
    "    p.grad=None\n",
    "for t in [logprobs,probs,counts,counts_sum,counts_sum_inv,\n",
    "          norm_logits,logits_maxes,logits,h,hpreact,bnraw,\n",
    "          bnvar_inv,bnvar,bndiff2,bndiff,hprebn,bnmeani,embcat,emb]:\n",
    "    t.retain_grad()\n",
    "loss.backward()\n",
    "loss"
   ]
  },
  {
   "cell_type": "code",
   "execution_count": 151,
   "metadata": {},
   "outputs": [
    {
     "name": "stdout",
     "output_type": "stream",
     "text": [
      "logprobs        | exact:True  | approximate:True |maxdiff:0.0\n",
      "probs           | exact:True  | approximate:True |maxdiff:0.0\n",
      "counts_sum_inv  | exact:True  | approximate:True |maxdiff:0.0\n",
      "counts_sum      | exact:True  | approximate:True |maxdiff:0.0\n",
      "counts          | exact:True  | approximate:True |maxdiff:0.0\n",
      "norm_logits     | exact:True  | approximate:True |maxdiff:0.0\n",
      "logits_maxes    | exact:True  | approximate:True |maxdiff:0.0\n",
      "logits          | exact:True  | approximate:True |maxdiff:0.0\n",
      "h               | exact:True  | approximate:True |maxdiff:0.0\n",
      "W2              | exact:True  | approximate:True |maxdiff:0.0\n",
      "b2              | exact:True  | approximate:True |maxdiff:0.0\n",
      "hpreact         | exact:True  | approximate:True |maxdiff:0.0\n",
      "bngain          | exact:True  | approximate:True |maxdiff:0.0\n",
      "bnbias          | exact:True  | approximate:True |maxdiff:0.0\n",
      "bnraw           | exact:True  | approximate:True |maxdiff:0.0\n",
      "bndiff          | exact:True  | approximate:True |maxdiff:0.0\n",
      "bnvar_inv       | exact:True  | approximate:True |maxdiff:0.0\n",
      "bnvar           | exact:True  | approximate:True |maxdiff:0.0\n",
      "bndiff2         | exact:True  | approximate:True |maxdiff:0.0\n",
      "hprebn          | exact:True  | approximate:True |maxdiff:0.0\n",
      "bnmeani         | exact:True  | approximate:True |maxdiff:0.0\n",
      "embcat          | exact:True  | approximate:True |maxdiff:0.0\n",
      "W2              | exact:True  | approximate:True |maxdiff:0.0\n",
      "b1              | exact:True  | approximate:True |maxdiff:0.0\n",
      "emb             | exact:True  | approximate:True |maxdiff:0.0\n",
      "C               | exact:True  | approximate:True |maxdiff:0.0\n"
     ]
    }
   ],
   "source": [
    "dlogprobs=torch.zeros_like(logprobs)  #generate zeros which have form like ()\n",
    "dlogprobs[range(n),Yb]=-1.0/n\n",
    "dprobs=(1.0/probs)*dlogprobs\n",
    "dcounts_sum_inv=(counts*dprobs).sum(1,keepdim=True)\n",
    "dcounts=counts_sum_inv*dprobs\n",
    "dcounts_sum=dcounts_sum_inv*(-counts_sum**-2)\n",
    "dcounts += torch.ones_like(counts) * dcounts_sum\n",
    "dnorm_logits=counts*dcounts\n",
    "dlogits=dnorm_logits.clone()  #??\n",
    "dlogits_maxes=(-dnorm_logits).sum(1,keepdim=True)\n",
    "dlogits += F.one_hot(logits.max(1).indices,num_classes=logits.shape[1])*dlogits_maxes\n",
    "dh=dlogits@W2.T\n",
    "dW2=h.T@dlogits\n",
    "db2=dlogits.sum(0,keepdim=True)\n",
    "dhpreact=(1 - h**2) * dh\n",
    "dbngain=(bnraw*dhpreact).sum(0,keepdim=True)\n",
    "dbnbias=dhpreact.sum(0,keepdim=True)\n",
    "dbnraw=bngain*dhpreact\n",
    "dbndiff=bnvar_inv*dbnraw\n",
    "dbnvar_inv=(dbnraw*bndiff).sum(0,keepdim=True)\n",
    "dbnvar=(-0.5*(bnvar + 1e-5)**-1.5)*dbnvar_inv\n",
    "dbndiff2=(1.0/(n-1))*torch.ones_like(bndiff2)*dbnvar\n",
    "dbndiff+=(2*bndiff)*dbndiff2\n",
    "dhprebn=dbndiff.clone()\n",
    "dbnmeani=(-dbndiff).sum(0)\n",
    "dhprebn += 1.0/n * torch.ones_like(hprebn) * dbnmeani\n",
    "dembcat=dhprebn@W1.T\n",
    "dW1=embcat.T@dhprebn\n",
    "db1=dhprebn.sum(0)\n",
    "demb=dembcat.view(emb.shape)\n",
    "dC=torch.zeros_like(C)\n",
    "for k in range(Xb.shape[0]):\n",
    "    for j in range(Xb.shape[1]):\n",
    "        ix=Xb[k,j]\n",
    "        dC[ix]+=demb[k,j]\n",
    "grads=[dC,dW1,db1,dW2,db2,dbngain,dbnbias]\n",
    "\n",
    "\n",
    "cmp('logprobs',dlogprobs,logprobs)\n",
    "cmp('probs',dprobs,probs)\n",
    "cmp('counts_sum_inv',dcounts_sum_inv,counts_sum_inv)\n",
    "cmp('counts_sum',dcounts_sum,counts_sum)\n",
    "cmp('counts',dcounts,counts)\n",
    "cmp('norm_logits',dnorm_logits,norm_logits)\n",
    "cmp('logits_maxes',dlogits_maxes,logits_maxes)\n",
    "cmp('logits',dlogits,logits)\n",
    "cmp('h',dh,h)\n",
    "cmp('W2',dW2,W2)\n",
    "cmp('b2',db2,b2)\n",
    "cmp('hpreact',dhpreact,hpreact)\n",
    "cmp('bngain',dbngain,bngain)\n",
    "cmp('bnbias',dbnbias,bnbias)\n",
    "cmp('bnraw',dbnraw,bnraw)\n",
    "cmp('bndiff',dbndiff,bndiff)\n",
    "cmp('bnvar_inv',dbnvar_inv,bnvar_inv)\n",
    "cmp('bnvar',dbnvar,bnvar)\n",
    "cmp('bndiff2',dbndiff2,bndiff2)\n",
    "cmp('hprebn',dhprebn,hprebn)\n",
    "cmp('bnmeani',dbnmeani,bnmeani)\n",
    "cmp('embcat',dembcat,embcat)\n",
    "cmp('W2',dW2,W2)\n",
    "cmp('b1',db1,b1)\n",
    "cmp('emb',demb,emb)\n",
    "cmp('C',dC,C)"
   ]
  },
  {
   "cell_type": "code",
   "execution_count": 152,
   "metadata": {},
   "outputs": [
    {
     "name": "stdout",
     "output_type": "stream",
     "text": [
      "hprebn          | exact:False | approximate:True |maxdiff:9.313225746154785e-10\n"
     ]
    }
   ],
   "source": [
    "dhprebn=bngain*bnvar_inv/n*(n*dhpreact-dhpreact.sum(0)-n/(n-1)*bnraw*(dhpreact*bnraw).sum(0))\n",
    "cmp('hprebn',dhprebn,hprebn)"
   ]
  },
  {
   "cell_type": "code",
   "execution_count": 153,
   "metadata": {},
   "outputs": [
    {
     "name": "stdout",
     "output_type": "stream",
     "text": [
      "3.343411922454834 diff: 2.384185791015625e-07\n"
     ]
    }
   ],
   "source": [
    "loss_fast=F.cross_entropy(logits,Yb)\n",
    "print(loss_fast.item(),'diff:',(loss_fast-loss).item())"
   ]
  },
  {
   "cell_type": "code",
   "execution_count": null,
   "metadata": {},
   "outputs": [],
   "source": [
    "n_embd = 10 #the dimensionakity of the character embedding vectors\n",
    "n_hidden = 200\n",
    "g=torch.Generator().manual_seed(2147483647)\n",
    "C=torch.randn((vocab_size,n_embd),generator=g)\n",
    "#Layer 1\n",
    "W1=torch.randn((n_embd * block_size,n_hidden),generator=g)*(5/3)/((n_embd*block_size)**0.5)\n",
    "b1=torch.randn(n_hidden,generator=g)*0.1  #uesless,just for fun\n",
    "#Layer 2\n",
    "W2=torch.randn((n_hidden,vocab_size),generator=g)*0.1\n",
    "b2=torch.randn(vocab_size,generator=g)*0.1\n",
    "#BatchNorm parameters  ???\n",
    "bngain=torch.randn((1,n_hidden))*0.1 + 1.0\n",
    "bnbias=torch.randn((1,n_hidden))*0.1\n",
    "\n",
    "parameters = [C,W1,b1,W2,b2,bngain, bnbias]\n",
    "print(sum(p.nelement() for p in parameters))\n",
    "for p in parameters:\n",
    "    p.requires_grad=True\n",
    "\n",
    "max_steps=200000\n",
    "batch_size=32\n",
    "n=batch_size\n",
    "lossi=[]\n",
    "for i in range(max_steps):\n",
    "    ix=torch.randint(0,Xtr.shape[0],(batch_size,),generator=g)\n",
    "    Xb,Yb=Xtr[ix],Ytr[ix]\n",
    "\n",
    "    emb=C[Xb]\n",
    "#print(emb.shape)\n",
    "    embcat=emb.view(emb.shape[0],-1) #concatenate the vectors\n",
    "#Linear layer 1\n",
    "    hprebn=embcat@W1+b1\n",
    "#BatchNorm layer\n",
    "    bnmean=hprebn.mean(0,keepdim=True)\n",
    "\n",
    "    bnvar=hprebn.var(0,keepdim=True,unbiased=True)\n",
    "    bnvar_inv=(bnvar+1e-5)**-0.5\n",
    "    bnraw=(hprebn-bnmean)*bnvar_inv  #normal\n",
    "    hpreact=bngain*bnraw + bnbias\n",
    "#Non-linearity\n",
    "    h=torch.tanh(hpreact)\n",
    "#Linear layer2\n",
    "    logits=h@W2+b2\n",
    "    loss=F.cross_entropy(logits,Yb)\n",
    "\n",
    "    for p in parameters:\n",
    "        p.grad=None\n",
    "    loss.backward()\n",
    "\n",
    "    dC,dW1,db1,dW2,db2,dbngain,dbnbias=None,None,None,None,None,None,None\n",
    "    grads=[dC,dW1,db1,dW2,db2,dbngain,dbnbias]\n",
    "\n",
    "    lr=0.1 if i<100000 else 0.01\n",
    "    for p,grad in zip(parameters,grads):\n",
    "        print(f'{i:7d}/{max_steps:7d}:{loss.item():.4f}')\n",
    "    lossi.append(loss.log10().item())\n",
    "\n",
    "    if i >= 100:\n",
    "        break"
   ]
  }
 ],
 "metadata": {
  "kernelspec": {
   "display_name": "myenv",
   "language": "python",
   "name": "python3"
  },
  "language_info": {
   "codemirror_mode": {
    "name": "ipython",
    "version": 3
   },
   "file_extension": ".py",
   "mimetype": "text/x-python",
   "name": "python",
   "nbconvert_exporter": "python",
   "pygments_lexer": "ipython3",
   "version": "3.12.3"
  }
 },
 "nbformat": 4,
 "nbformat_minor": 2
}
